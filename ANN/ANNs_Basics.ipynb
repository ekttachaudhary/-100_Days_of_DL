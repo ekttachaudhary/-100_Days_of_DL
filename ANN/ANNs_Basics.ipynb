{
 "cells": [
  {
   "cell_type": "code",
   "execution_count": 3,
   "metadata": {},
   "outputs": [],
   "source": [
    "import tensorflow as tf"
   ]
  },
  {
   "cell_type": "code",
   "execution_count": 4,
   "metadata": {},
   "outputs": [],
   "source": [
    "import numpy as np\n",
    "import matplotlib.pyplot as plt\n",
    "import pandas as pd\n",
    "import seaborn as sns"
   ]
  },
  {
   "cell_type": "code",
   "execution_count": 6,
   "metadata": {},
   "outputs": [],
   "source": [
    "df = pd.read_csv('dat.csv')"
   ]
  },
  {
   "cell_type": "code",
   "execution_count": 8,
   "metadata": {},
   "outputs": [],
   "source": [
    "from sklearn.model_selection import train_test_split"
   ]
  },
  {
   "cell_type": "code",
   "execution_count": 23,
   "metadata": {},
   "outputs": [],
   "source": [
    "X = df[['feature1', 'feature2']].values"
   ]
  },
  {
   "cell_type": "code",
   "execution_count": 24,
   "metadata": {},
   "outputs": [],
   "source": [
    "y = df[['price']].values"
   ]
  },
  {
   "cell_type": "code",
   "execution_count": 92,
   "metadata": {},
   "outputs": [],
   "source": [
    "X_train, X_test, y_train, y_test = train_test_split(X,y, test_size = 0.3, random_state = 23)"
   ]
  },
  {
   "cell_type": "code",
   "execution_count": 93,
   "metadata": {},
   "outputs": [
    {
     "data": {
      "text/plain": [
       "((700, 2), (300, 2))"
      ]
     },
     "execution_count": 93,
     "metadata": {},
     "output_type": "execute_result"
    }
   ],
   "source": [
    "X_train.shape, X_test.shape"
   ]
  },
  {
   "cell_type": "code",
   "execution_count": 94,
   "metadata": {},
   "outputs": [],
   "source": [
    "# Scale the datas'\n",
    "from sklearn.preprocessing import MinMaxScaler"
   ]
  },
  {
   "cell_type": "code",
   "execution_count": 95,
   "metadata": {},
   "outputs": [],
   "source": [
    "scaler = MinMaxScaler()"
   ]
  },
  {
   "cell_type": "code",
   "execution_count": 96,
   "metadata": {},
   "outputs": [
    {
     "data": {
      "text/plain": [
       "MinMaxScaler()"
      ]
     },
     "execution_count": 96,
     "metadata": {},
     "output_type": "execute_result"
    }
   ],
   "source": [
    "scaler.fit(X_train)"
   ]
  },
  {
   "cell_type": "code",
   "execution_count": 97,
   "metadata": {},
   "outputs": [],
   "source": [
    "X_train = scaler.transform(X_train)"
   ]
  },
  {
   "cell_type": "code",
   "execution_count": 98,
   "metadata": {},
   "outputs": [],
   "source": [
    "X_test = scaler.transform(X_test)"
   ]
  },
  {
   "cell_type": "code",
   "execution_count": 99,
   "metadata": {},
   "outputs": [],
   "source": [
    "from tensorflow.keras.models import Sequential\n",
    "from tensorflow.keras.layers import Dense"
   ]
  },
  {
   "cell_type": "code",
   "execution_count": 100,
   "metadata": {},
   "outputs": [],
   "source": [
    "model = Sequential()"
   ]
  },
  {
   "cell_type": "code",
   "execution_count": 101,
   "metadata": {},
   "outputs": [],
   "source": [
    "model.add(Dense(4, activation = 'relu'))\n",
    "model.add(Dense(4, activation = 'relu'))\n",
    "model.add(Dense(4, activation = 'relu'))\n",
    "\n",
    "#Final Output Layer\n",
    "model.add(Dense(1))\n",
    "\n",
    "model.compile(optimizer = 'rmsprop', loss= 'mse')"
   ]
  },
  {
   "cell_type": "code",
   "execution_count": 102,
   "metadata": {},
   "outputs": [
    {
     "name": "stdout",
     "output_type": "stream",
     "text": [
      "Epoch 1/250\n",
      "22/22 [==============================] - 0s 5ms/step - loss: 257699.1094\n",
      "Epoch 2/250\n",
      "22/22 [==============================] - 0s 2ms/step - loss: 257432.4375\n",
      "Epoch 3/250\n",
      "22/22 [==============================] - 0s 2ms/step - loss: 257163.1094\n",
      "Epoch 4/250\n",
      "22/22 [==============================] - 0s 2ms/step - loss: 256873.4844\n",
      "Epoch 5/250\n",
      "22/22 [==============================] - 0s 2ms/step - loss: 256558.9062\n",
      "Epoch 6/250\n",
      "22/22 [==============================] - 0s 2ms/step - loss: 256218.7500\n",
      "Epoch 7/250\n",
      "22/22 [==============================] - 0s 2ms/step - loss: 255850.7656\n",
      "Epoch 8/250\n",
      "22/22 [==============================] - 0s 2ms/step - loss: 255454.0312\n",
      "Epoch 9/250\n",
      "22/22 [==============================] - 0s 2ms/step - loss: 255030.6719\n",
      "Epoch 10/250\n",
      "22/22 [==============================] - 0s 1ms/step - loss: 254574.7500\n",
      "Epoch 11/250\n",
      "22/22 [==============================] - 0s 1ms/step - loss: 254082.9531\n",
      "Epoch 12/250\n",
      "22/22 [==============================] - 0s 2ms/step - loss: 253546.4062\n",
      "Epoch 13/250\n",
      "22/22 [==============================] - 0s 2ms/step - loss: 252962.3594\n",
      "Epoch 14/250\n",
      "22/22 [==============================] - 0s 2ms/step - loss: 252323.3438\n",
      "Epoch 15/250\n",
      "22/22 [==============================] - 0s 1ms/step - loss: 251635.8906\n",
      "Epoch 16/250\n",
      "22/22 [==============================] - 0s 2ms/step - loss: 250891.6406\n",
      "Epoch 17/250\n",
      "22/22 [==============================] - 0s 2ms/step - loss: 250085.0469\n",
      "Epoch 18/250\n",
      "22/22 [==============================] - 0s 1ms/step - loss: 249214.6562\n",
      "Epoch 19/250\n",
      "22/22 [==============================] - 0s 1ms/step - loss: 248277.9375\n",
      "Epoch 20/250\n",
      "22/22 [==============================] - 0s 1ms/step - loss: 247274.7031\n",
      "Epoch 21/250\n",
      "22/22 [==============================] - 0s 2ms/step - loss: 246201.0781\n",
      "Epoch 22/250\n",
      "22/22 [==============================] - 0s 2ms/step - loss: 245048.9219\n",
      "Epoch 23/250\n",
      "22/22 [==============================] - 0s 2ms/step - loss: 243822.1562\n",
      "Epoch 24/250\n",
      "22/22 [==============================] - 0s 1ms/step - loss: 242516.7344\n",
      "Epoch 25/250\n",
      "22/22 [==============================] - 0s 1ms/step - loss: 241126.3594\n",
      "Epoch 26/250\n",
      "22/22 [==============================] - 0s 1ms/step - loss: 239646.0781\n",
      "Epoch 27/250\n",
      "22/22 [==============================] - 0s 1ms/step - loss: 238078.3281\n",
      "Epoch 28/250\n",
      "22/22 [==============================] - 0s 1ms/step - loss: 236412.8906\n",
      "Epoch 29/250\n",
      "22/22 [==============================] - 0s 1ms/step - loss: 234649.5469\n",
      "Epoch 30/250\n",
      "22/22 [==============================] - 0s 1ms/step - loss: 232773.1406\n",
      "Epoch 31/250\n",
      "22/22 [==============================] - 0s 2ms/step - loss: 230807.7188\n",
      "Epoch 32/250\n",
      "22/22 [==============================] - 0s 2ms/step - loss: 228744.6406\n",
      "Epoch 33/250\n",
      "22/22 [==============================] - 0s 1ms/step - loss: 226566.7500\n",
      "Epoch 34/250\n",
      "22/22 [==============================] - 0s 1ms/step - loss: 224260.8750\n",
      "Epoch 35/250\n",
      "22/22 [==============================] - 0s 1ms/step - loss: 221874.4219\n",
      "Epoch 36/250\n",
      "22/22 [==============================] - 0s 1ms/step - loss: 219339.7031\n",
      "Epoch 37/250\n",
      "22/22 [==============================] - 0s 1ms/step - loss: 216692.6406\n",
      "Epoch 38/250\n",
      "22/22 [==============================] - 0s 1ms/step - loss: 213937.1406\n",
      "Epoch 39/250\n",
      "22/22 [==============================] - 0s 2ms/step - loss: 211036.7344\n",
      "Epoch 40/250\n",
      "22/22 [==============================] - 0s 1ms/step - loss: 208037.8750\n",
      "Epoch 41/250\n",
      "22/22 [==============================] - 0s 1ms/step - loss: 204910.0312\n",
      "Epoch 42/250\n",
      "22/22 [==============================] - 0s 1ms/step - loss: 201618.7812\n",
      "Epoch 43/250\n",
      "22/22 [==============================] - 0s 2ms/step - loss: 198214.9688\n",
      "Epoch 44/250\n",
      "22/22 [==============================] - 0s 1ms/step - loss: 194684.5469\n",
      "Epoch 45/250\n",
      "22/22 [==============================] - 0s 1ms/step - loss: 191033.0000\n",
      "Epoch 46/250\n",
      "22/22 [==============================] - 0s 1ms/step - loss: 187234.5781\n",
      "Epoch 47/250\n",
      "22/22 [==============================] - 0s 1ms/step - loss: 183305.8125\n",
      "Epoch 48/250\n",
      "22/22 [==============================] - 0s 2ms/step - loss: 179257.0625\n",
      "Epoch 49/250\n",
      "22/22 [==============================] - 0s 1ms/step - loss: 175092.1562\n",
      "Epoch 50/250\n",
      "22/22 [==============================] - 0s 1ms/step - loss: 170797.5000\n",
      "Epoch 51/250\n",
      "22/22 [==============================] - 0s 2ms/step - loss: 166354.0781\n",
      "Epoch 52/250\n",
      "22/22 [==============================] - 0s 1ms/step - loss: 161799.9531\n",
      "Epoch 53/250\n",
      "22/22 [==============================] - 0s 946us/step - loss: 157113.3906\n",
      "Epoch 54/250\n",
      "22/22 [==============================] - 0s 1ms/step - loss: 152300.0625\n",
      "Epoch 55/250\n",
      "22/22 [==============================] - 0s 1ms/step - loss: 147375.3438\n",
      "Epoch 56/250\n",
      "22/22 [==============================] - 0s 1ms/step - loss: 142360.3750\n",
      "Epoch 57/250\n",
      "22/22 [==============================] - 0s 1ms/step - loss: 137220.5156\n",
      "Epoch 58/250\n",
      "22/22 [==============================] - 0s 1ms/step - loss: 131982.0469\n",
      "Epoch 59/250\n",
      "22/22 [==============================] - 0s 1ms/step - loss: 126702.7422\n",
      "Epoch 60/250\n",
      "22/22 [==============================] - 0s 2ms/step - loss: 121310.6484\n",
      "Epoch 61/250\n",
      "22/22 [==============================] - 0s 1ms/step - loss: 115852.4219\n",
      "Epoch 62/250\n",
      "22/22 [==============================] - 0s 1ms/step - loss: 110311.9531\n",
      "Epoch 63/250\n",
      "22/22 [==============================] - 0s 1ms/step - loss: 104710.7891\n",
      "Epoch 64/250\n",
      "22/22 [==============================] - 0s 1ms/step - loss: 99078.4219\n",
      "Epoch 65/250\n",
      "22/22 [==============================] - 0s 1ms/step - loss: 93417.5000\n",
      "Epoch 66/250\n",
      "22/22 [==============================] - 0s 2ms/step - loss: 87775.0391\n",
      "Epoch 67/250\n",
      "22/22 [==============================] - 0s 1ms/step - loss: 82117.6328\n",
      "Epoch 68/250\n",
      "22/22 [==============================] - 0s 1ms/step - loss: 76426.2500\n",
      "Epoch 69/250\n",
      "22/22 [==============================] - 0s 1ms/step - loss: 70786.8047\n",
      "Epoch 70/250\n",
      "22/22 [==============================] - 0s 1ms/step - loss: 65219.9492\n",
      "Epoch 71/250\n",
      "22/22 [==============================] - 0s 1ms/step - loss: 59712.8398\n",
      "Epoch 72/250\n",
      "22/22 [==============================] - 0s 1ms/step - loss: 54298.8789\n",
      "Epoch 73/250\n",
      "22/22 [==============================] - 0s 1ms/step - loss: 48968.8633\n",
      "Epoch 74/250\n",
      "22/22 [==============================] - 0s 1ms/step - loss: 43819.3633\n",
      "Epoch 75/250\n",
      "22/22 [==============================] - 0s 1ms/step - loss: 38796.3281\n",
      "Epoch 76/250\n",
      "22/22 [==============================] - 0s 1ms/step - loss: 33965.9844\n",
      "Epoch 77/250\n",
      "22/22 [==============================] - 0s 1ms/step - loss: 29384.3223\n",
      "Epoch 78/250\n",
      "22/22 [==============================] - 0s 1ms/step - loss: 25032.8848\n",
      "Epoch 79/250\n",
      "22/22 [==============================] - 0s 1ms/step - loss: 20960.7285\n",
      "Epoch 80/250\n",
      "22/22 [==============================] - 0s 1ms/step - loss: 17189.2793\n",
      "Epoch 81/250\n",
      "22/22 [==============================] - 0s 1ms/step - loss: 13762.1797\n",
      "Epoch 82/250\n",
      "22/22 [==============================] - 0s 1ms/step - loss: 10728.1904\n",
      "Epoch 83/250\n",
      "22/22 [==============================] - 0s 2ms/step - loss: 8080.8071\n",
      "Epoch 84/250\n",
      "22/22 [==============================] - 0s 1ms/step - loss: 5856.2373\n",
      "Epoch 85/250\n",
      "22/22 [==============================] - 0s 1ms/step - loss: 4107.5391\n",
      "Epoch 86/250\n",
      "22/22 [==============================] - 0s 1ms/step - loss: 2867.7124\n",
      "Epoch 87/250\n",
      "22/22 [==============================] - 0s 1ms/step - loss: 2113.9639\n",
      "Epoch 88/250\n",
      "22/22 [==============================] - 0s 2ms/step - loss: 1763.6301\n",
      "Epoch 89/250\n",
      "22/22 [==============================] - 0s 1ms/step - loss: 1682.9899\n",
      "Epoch 90/250\n",
      "22/22 [==============================] - 0s 1ms/step - loss: 1653.9899\n",
      "Epoch 91/250\n",
      "22/22 [==============================] - 0s 1ms/step - loss: 1626.3730\n",
      "Epoch 92/250\n",
      "22/22 [==============================] - 0s 1ms/step - loss: 1599.3765\n",
      "Epoch 93/250\n",
      "22/22 [==============================] - 0s 1ms/step - loss: 1569.5698\n",
      "Epoch 94/250\n",
      "22/22 [==============================] - 0s 1ms/step - loss: 1544.5507\n",
      "Epoch 95/250\n",
      "22/22 [==============================] - 0s 1ms/step - loss: 1515.3754\n",
      "Epoch 96/250\n"
     ]
    },
    {
     "name": "stdout",
     "output_type": "stream",
     "text": [
      "22/22 [==============================] - 0s 1ms/step - loss: 1492.0414\n",
      "Epoch 97/250\n",
      "22/22 [==============================] - 0s 1ms/step - loss: 1467.9576\n",
      "Epoch 98/250\n",
      "22/22 [==============================] - 0s 2ms/step - loss: 1436.6416\n",
      "Epoch 99/250\n",
      "22/22 [==============================] - 0s 2ms/step - loss: 1414.7183\n",
      "Epoch 100/250\n",
      "22/22 [==============================] - 0s 2ms/step - loss: 1385.9976\n",
      "Epoch 101/250\n",
      "22/22 [==============================] - 0s 2ms/step - loss: 1358.6085\n",
      "Epoch 102/250\n",
      "22/22 [==============================] - 0s 2ms/step - loss: 1330.2319\n",
      "Epoch 103/250\n",
      "22/22 [==============================] - 0s 1ms/step - loss: 1302.1442\n",
      "Epoch 104/250\n",
      "22/22 [==============================] - 0s 2ms/step - loss: 1273.6648\n",
      "Epoch 105/250\n",
      "22/22 [==============================] - 0s 2ms/step - loss: 1250.3817\n",
      "Epoch 106/250\n",
      "22/22 [==============================] - 0s 2ms/step - loss: 1224.4879\n",
      "Epoch 107/250\n",
      "22/22 [==============================] - 0s 2ms/step - loss: 1199.5782\n",
      "Epoch 108/250\n",
      "22/22 [==============================] - 0s 2ms/step - loss: 1175.2847\n",
      "Epoch 109/250\n",
      "22/22 [==============================] - 0s 2ms/step - loss: 1148.9668\n",
      "Epoch 110/250\n",
      "22/22 [==============================] - 0s 1ms/step - loss: 1123.8367\n",
      "Epoch 111/250\n",
      "22/22 [==============================] - 0s 2ms/step - loss: 1097.8292\n",
      "Epoch 112/250\n",
      "22/22 [==============================] - 0s 1ms/step - loss: 1071.6936\n",
      "Epoch 113/250\n",
      "22/22 [==============================] - 0s 1ms/step - loss: 1043.3580\n",
      "Epoch 114/250\n",
      "22/22 [==============================] - 0s 2ms/step - loss: 1013.8928\n",
      "Epoch 115/250\n",
      "22/22 [==============================] - 0s 2ms/step - loss: 989.8096\n",
      "Epoch 116/250\n",
      "22/22 [==============================] - 0s 1ms/step - loss: 966.4553\n",
      "Epoch 117/250\n",
      "22/22 [==============================] - 0s 2ms/step - loss: 942.6688\n",
      "Epoch 118/250\n",
      "22/22 [==============================] - 0s 2ms/step - loss: 916.7228\n",
      "Epoch 119/250\n",
      "22/22 [==============================] - 0s 1ms/step - loss: 890.8929\n",
      "Epoch 120/250\n",
      "22/22 [==============================] - 0s 1ms/step - loss: 863.8369\n",
      "Epoch 121/250\n",
      "22/22 [==============================] - 0s 2ms/step - loss: 837.8168\n",
      "Epoch 122/250\n",
      "22/22 [==============================] - 0s 1ms/step - loss: 813.5145\n",
      "Epoch 123/250\n",
      "22/22 [==============================] - 0s 1ms/step - loss: 788.8568\n",
      "Epoch 124/250\n",
      "22/22 [==============================] - 0s 1ms/step - loss: 766.9756\n",
      "Epoch 125/250\n",
      "22/22 [==============================] - 0s 2ms/step - loss: 744.8016\n",
      "Epoch 126/250\n",
      "22/22 [==============================] - 0s 1ms/step - loss: 724.7458\n",
      "Epoch 127/250\n",
      "22/22 [==============================] - 0s 1ms/step - loss: 701.8181\n",
      "Epoch 128/250\n",
      "22/22 [==============================] - 0s 1ms/step - loss: 683.0673\n",
      "Epoch 129/250\n",
      "22/22 [==============================] - 0s 2ms/step - loss: 662.1662\n",
      "Epoch 130/250\n",
      "22/22 [==============================] - 0s 1ms/step - loss: 644.2291\n",
      "Epoch 131/250\n",
      "22/22 [==============================] - 0s 1ms/step - loss: 622.0098\n",
      "Epoch 132/250\n",
      "22/22 [==============================] - 0s 2ms/step - loss: 600.2599\n",
      "Epoch 133/250\n",
      "22/22 [==============================] - 0s 1ms/step - loss: 581.4625\n",
      "Epoch 134/250\n",
      "22/22 [==============================] - 0s 2ms/step - loss: 561.4742\n",
      "Epoch 135/250\n",
      "22/22 [==============================] - 0s 1ms/step - loss: 540.5423\n",
      "Epoch 136/250\n",
      "22/22 [==============================] - 0s 1ms/step - loss: 519.4984\n",
      "Epoch 137/250\n",
      "22/22 [==============================] - 0s 1ms/step - loss: 502.4491\n",
      "Epoch 138/250\n",
      "22/22 [==============================] - 0s 1ms/step - loss: 482.9644\n",
      "Epoch 139/250\n",
      "22/22 [==============================] - 0s 1ms/step - loss: 462.6716\n",
      "Epoch 140/250\n",
      "22/22 [==============================] - 0s 1ms/step - loss: 442.2029\n",
      "Epoch 141/250\n",
      "22/22 [==============================] - 0s 1ms/step - loss: 428.0453\n",
      "Epoch 142/250\n",
      "22/22 [==============================] - 0s 2ms/step - loss: 410.4720\n",
      "Epoch 143/250\n",
      "22/22 [==============================] - 0s 1ms/step - loss: 393.4588\n",
      "Epoch 144/250\n",
      "22/22 [==============================] - 0s 1ms/step - loss: 377.0916\n",
      "Epoch 145/250\n",
      "22/22 [==============================] - 0s 1ms/step - loss: 361.7581\n",
      "Epoch 146/250\n",
      "22/22 [==============================] - 0s 1ms/step - loss: 344.2592\n",
      "Epoch 147/250\n",
      "22/22 [==============================] - 0s 1ms/step - loss: 326.7774\n",
      "Epoch 148/250\n",
      "22/22 [==============================] - 0s 1ms/step - loss: 310.0070\n",
      "Epoch 149/250\n",
      "22/22 [==============================] - 0s 2ms/step - loss: 293.3112\n",
      "Epoch 150/250\n",
      "22/22 [==============================] - 0s 1ms/step - loss: 278.1234\n",
      "Epoch 151/250\n",
      "22/22 [==============================] - 0s 1ms/step - loss: 264.3118\n",
      "Epoch 152/250\n",
      "22/22 [==============================] - 0s 2ms/step - loss: 248.9560\n",
      "Epoch 153/250\n",
      "22/22 [==============================] - 0s 1ms/step - loss: 236.1338\n",
      "Epoch 154/250\n",
      "22/22 [==============================] - 0s 1ms/step - loss: 224.3945\n",
      "Epoch 155/250\n",
      "22/22 [==============================] - 0s 2ms/step - loss: 209.9751\n",
      "Epoch 156/250\n",
      "22/22 [==============================] - 0s 1ms/step - loss: 196.7247\n",
      "Epoch 157/250\n",
      "22/22 [==============================] - 0s 1ms/step - loss: 184.5392\n",
      "Epoch 158/250\n",
      "22/22 [==============================] - 0s 1ms/step - loss: 176.0996\n",
      "Epoch 159/250\n",
      "22/22 [==============================] - 0s 1ms/step - loss: 165.2068\n",
      "Epoch 160/250\n",
      "22/22 [==============================] - 0s 1ms/step - loss: 154.0090\n",
      "Epoch 161/250\n",
      "22/22 [==============================] - 0s 1ms/step - loss: 142.9596\n",
      "Epoch 162/250\n",
      "22/22 [==============================] - 0s 1ms/step - loss: 135.1960\n",
      "Epoch 163/250\n",
      "22/22 [==============================] - 0s 2ms/step - loss: 126.5758\n",
      "Epoch 164/250\n",
      "22/22 [==============================] - 0s 1ms/step - loss: 118.1429\n",
      "Epoch 165/250\n",
      "22/22 [==============================] - 0s 2ms/step - loss: 109.1669\n",
      "Epoch 166/250\n",
      "22/22 [==============================] - 0s 1ms/step - loss: 101.8443\n",
      "Epoch 167/250\n",
      "22/22 [==============================] - 0s 2ms/step - loss: 94.9669\n",
      "Epoch 168/250\n",
      "22/22 [==============================] - 0s 1ms/step - loss: 87.4789\n",
      "Epoch 169/250\n",
      "22/22 [==============================] - 0s 1ms/step - loss: 80.3187\n",
      "Epoch 170/250\n",
      "22/22 [==============================] - 0s 1ms/step - loss: 74.5668\n",
      "Epoch 171/250\n",
      "22/22 [==============================] - 0s 1ms/step - loss: 68.8054\n",
      "Epoch 172/250\n",
      "22/22 [==============================] - 0s 1ms/step - loss: 64.4350\n",
      "Epoch 173/250\n",
      "22/22 [==============================] - 0s 2ms/step - loss: 60.5549\n",
      "Epoch 174/250\n",
      "22/22 [==============================] - 0s 1ms/step - loss: 56.2016\n",
      "Epoch 175/250\n",
      "22/22 [==============================] - 0s 1ms/step - loss: 52.5006\n",
      "Epoch 176/250\n",
      "22/22 [==============================] - 0s 1ms/step - loss: 49.3931\n",
      "Epoch 177/250\n",
      "22/22 [==============================] - 0s 1ms/step - loss: 46.2847\n",
      "Epoch 178/250\n",
      "22/22 [==============================] - 0s 1ms/step - loss: 43.5671\n",
      "Epoch 179/250\n",
      "22/22 [==============================] - 0s 1ms/step - loss: 40.5617\n",
      "Epoch 180/250\n",
      "22/22 [==============================] - 0s 1ms/step - loss: 38.2047\n",
      "Epoch 181/250\n",
      "22/22 [==============================] - 0s 1ms/step - loss: 36.1964\n",
      "Epoch 182/250\n",
      "22/22 [==============================] - ETA: 0s - loss: 39.28 - 0s 2ms/step - loss: 34.5047\n",
      "Epoch 183/250\n",
      "22/22 [==============================] - 0s 1ms/step - loss: 32.9896\n",
      "Epoch 184/250\n",
      "22/22 [==============================] - 0s 1ms/step - loss: 31.8165\n",
      "Epoch 185/250\n",
      "22/22 [==============================] - 0s 1ms/step - loss: 30.5029\n",
      "Epoch 186/250\n",
      "22/22 [==============================] - 0s 2ms/step - loss: 29.4745\n",
      "Epoch 187/250\n",
      "22/22 [==============================] - 0s 1ms/step - loss: 28.9882\n",
      "Epoch 188/250\n",
      "22/22 [==============================] - 0s 1ms/step - loss: 28.4696\n",
      "Epoch 189/250\n",
      "22/22 [==============================] - 0s 1ms/step - loss: 27.8826\n",
      "Epoch 190/250\n",
      "22/22 [==============================] - 0s 1ms/step - loss: 27.7660\n",
      "Epoch 191/250\n",
      "22/22 [==============================] - 0s 1ms/step - loss: 26.7929\n",
      "Epoch 192/250\n",
      "22/22 [==============================] - 0s 1ms/step - loss: 26.8494\n",
      "Epoch 193/250\n"
     ]
    },
    {
     "name": "stdout",
     "output_type": "stream",
     "text": [
      "22/22 [==============================] - 0s 1ms/step - loss: 26.3407\n",
      "Epoch 194/250\n",
      "22/22 [==============================] - 0s 1ms/step - loss: 26.4130\n",
      "Epoch 195/250\n",
      "22/22 [==============================] - 0s 2ms/step - loss: 26.3027\n",
      "Epoch 196/250\n",
      "22/22 [==============================] - 0s 2ms/step - loss: 25.8714\n",
      "Epoch 197/250\n",
      "22/22 [==============================] - 0s 1ms/step - loss: 25.7751\n",
      "Epoch 198/250\n",
      "22/22 [==============================] - 0s 1ms/step - loss: 25.9730\n",
      "Epoch 199/250\n",
      "22/22 [==============================] - 0s 1ms/step - loss: 25.8509\n",
      "Epoch 200/250\n",
      "22/22 [==============================] - 0s 2ms/step - loss: 25.6737\n",
      "Epoch 201/250\n",
      "22/22 [==============================] - 0s 1ms/step - loss: 25.5490\n",
      "Epoch 202/250\n",
      "22/22 [==============================] - 0s 2ms/step - loss: 25.7191\n",
      "Epoch 203/250\n",
      "22/22 [==============================] - 0s 1ms/step - loss: 25.1923\n",
      "Epoch 204/250\n",
      "22/22 [==============================] - 0s 2ms/step - loss: 25.5485\n",
      "Epoch 205/250\n",
      "22/22 [==============================] - 0s 2ms/step - loss: 25.3353\n",
      "Epoch 206/250\n",
      "22/22 [==============================] - 0s 1ms/step - loss: 25.3370\n",
      "Epoch 207/250\n",
      "22/22 [==============================] - 0s 2ms/step - loss: 25.1549\n",
      "Epoch 208/250\n",
      "22/22 [==============================] - 0s 2ms/step - loss: 25.3459\n",
      "Epoch 209/250\n",
      "22/22 [==============================] - 0s 2ms/step - loss: 25.2303\n",
      "Epoch 210/250\n",
      "22/22 [==============================] - 0s 1ms/step - loss: 25.4961\n",
      "Epoch 211/250\n",
      "22/22 [==============================] - 0s 1ms/step - loss: 25.2923\n",
      "Epoch 212/250\n",
      "22/22 [==============================] - 0s 2ms/step - loss: 25.3015\n",
      "Epoch 213/250\n",
      "22/22 [==============================] - 0s 1ms/step - loss: 25.1501\n",
      "Epoch 214/250\n",
      "22/22 [==============================] - 0s 1ms/step - loss: 25.4322\n",
      "Epoch 215/250\n",
      "22/22 [==============================] - 0s 2ms/step - loss: 25.5603\n",
      "Epoch 216/250\n",
      "22/22 [==============================] - 0s 2ms/step - loss: 24.9770\n",
      "Epoch 217/250\n",
      "22/22 [==============================] - 0s 2ms/step - loss: 24.9166\n",
      "Epoch 218/250\n",
      "22/22 [==============================] - 0s 2ms/step - loss: 25.5691\n",
      "Epoch 219/250\n",
      "22/22 [==============================] - 0s 1ms/step - loss: 24.8666\n",
      "Epoch 220/250\n",
      "22/22 [==============================] - 0s 1ms/step - loss: 24.9407\n",
      "Epoch 221/250\n",
      "22/22 [==============================] - 0s 2ms/step - loss: 25.0540\n",
      "Epoch 222/250\n",
      "22/22 [==============================] - 0s 1ms/step - loss: 25.5134\n",
      "Epoch 223/250\n",
      "22/22 [==============================] - 0s 1ms/step - loss: 25.1115\n",
      "Epoch 224/250\n",
      "22/22 [==============================] - 0s 1ms/step - loss: 25.3284\n",
      "Epoch 225/250\n",
      "22/22 [==============================] - 0s 2ms/step - loss: 25.4947\n",
      "Epoch 226/250\n",
      "22/22 [==============================] - 0s 1ms/step - loss: 25.2887\n",
      "Epoch 227/250\n",
      "22/22 [==============================] - 0s 2ms/step - loss: 25.1281\n",
      "Epoch 228/250\n",
      "22/22 [==============================] - 0s 1ms/step - loss: 25.0181\n",
      "Epoch 229/250\n",
      "22/22 [==============================] - 0s 1ms/step - loss: 25.3350\n",
      "Epoch 230/250\n",
      "22/22 [==============================] - 0s 2ms/step - loss: 25.4301\n",
      "Epoch 231/250\n",
      "22/22 [==============================] - 0s 2ms/step - loss: 25.1447\n",
      "Epoch 232/250\n",
      "22/22 [==============================] - 0s 1ms/step - loss: 25.5504\n",
      "Epoch 233/250\n",
      "22/22 [==============================] - 0s 1ms/step - loss: 24.8902\n",
      "Epoch 234/250\n",
      "22/22 [==============================] - 0s 1ms/step - loss: 25.4133\n",
      "Epoch 235/250\n",
      "22/22 [==============================] - 0s 2ms/step - loss: 24.8552\n",
      "Epoch 236/250\n",
      "22/22 [==============================] - ETA: 0s - loss: 25.88 - 0s 3ms/step - loss: 25.2890\n",
      "Epoch 237/250\n",
      "22/22 [==============================] - 0s 1ms/step - loss: 24.8871\n",
      "Epoch 238/250\n",
      "22/22 [==============================] - 0s 1ms/step - loss: 25.6231\n",
      "Epoch 239/250\n",
      "22/22 [==============================] - 0s 1ms/step - loss: 25.3591\n",
      "Epoch 240/250\n",
      "22/22 [==============================] - 0s 1ms/step - loss: 25.2890\n",
      "Epoch 241/250\n",
      "22/22 [==============================] - 0s 1ms/step - loss: 25.1059\n",
      "Epoch 242/250\n",
      "22/22 [==============================] - 0s 2ms/step - loss: 24.8642\n",
      "Epoch 243/250\n",
      "22/22 [==============================] - 0s 1ms/step - loss: 25.2838\n",
      "Epoch 244/250\n",
      "22/22 [==============================] - 0s 2ms/step - loss: 24.9249\n",
      "Epoch 245/250\n",
      "22/22 [==============================] - 0s 1ms/step - loss: 25.6358\n",
      "Epoch 246/250\n",
      "22/22 [==============================] - 0s 2ms/step - loss: 25.2752\n",
      "Epoch 247/250\n",
      "22/22 [==============================] - 0s 2ms/step - loss: 25.1005\n",
      "Epoch 248/250\n",
      "22/22 [==============================] - 0s 2ms/step - loss: 25.6244\n",
      "Epoch 249/250\n",
      "22/22 [==============================] - 0s 2ms/step - loss: 25.0594\n",
      "Epoch 250/250\n",
      "22/22 [==============================] - 0s 1ms/step - loss: 24.9367\n"
     ]
    },
    {
     "data": {
      "text/plain": [
       "<tensorflow.python.keras.callbacks.History at 0x2b2af714828>"
      ]
     },
     "execution_count": 102,
     "metadata": {},
     "output_type": "execute_result"
    }
   ],
   "source": [
    "model.fit(x= X_train, y= y_train, epochs= 250)"
   ]
  },
  {
   "cell_type": "code",
   "execution_count": 103,
   "metadata": {},
   "outputs": [],
   "source": [
    "loss_df = pd.DataFrame(model.history.history)"
   ]
  },
  {
   "cell_type": "code",
   "execution_count": 104,
   "metadata": {},
   "outputs": [
    {
     "data": {
      "image/png": "[encoded data removed]",
      "text/plain": [
       "<Figure size 432x288 with 1 Axes>"
      ]
     },
     "metadata": {
      "needs_background": "light"
     },
     "output_type": "display_data"
    }
   ],
   "source": [
    "loss_df.plot();"
   ]
  },
  {
   "cell_type": "markdown",
   "metadata": {},
   "source": [
    "#### Evaluate the model"
   ]
  },
  {
   "cell_type": "code",
   "execution_count": 105,
   "metadata": {},
   "outputs": [
    {
     "data": {
      "text/plain": [
       "24.292409896850586"
      ]
     },
     "execution_count": 105,
     "metadata": {},
     "output_type": "execute_result"
    }
   ],
   "source": [
    "model.evaluate(X_test, y_test, verbose = 0)"
   ]
  },
  {
   "cell_type": "code",
   "execution_count": 106,
   "metadata": {},
   "outputs": [
    {
     "data": {
      "text/plain": [
       "26.355606079101562"
      ]
     },
     "execution_count": 106,
     "metadata": {},
     "output_type": "execute_result"
    }
   ],
   "source": [
    "model.evaluate(X_train, y_train, verbose = 0)"
   ]
  },
  {
   "cell_type": "code",
   "execution_count": 107,
   "metadata": {},
   "outputs": [],
   "source": [
    "# test prediction for price\n",
    "test_preds = model.predict(X_test)"
   ]
  },
  {
   "cell_type": "code",
   "execution_count": 109,
   "metadata": {},
   "outputs": [],
   "source": [
    "test_preds = pd.Series(test_preds.reshape(300,))"
   ]
  },
  {
   "cell_type": "code",
   "execution_count": 110,
   "metadata": {},
   "outputs": [],
   "source": [
    "# creating a dataframe for y_test i.e true values\n",
    "true_preds = pd.DataFrame(y_test, columns = [\"True Values\"])"
   ]
  },
  {
   "cell_type": "code",
   "execution_count": 111,
   "metadata": {},
   "outputs": [],
   "source": [
    "true_preds = pd.concat([true_preds, test_preds], axis = 1)"
   ]
  },
  {
   "cell_type": "code",
   "execution_count": 112,
   "metadata": {},
   "outputs": [],
   "source": [
    "true_preds.columns = ['True Values', 'Predicted Values']"
   ]
  },
  {
   "cell_type": "code",
   "execution_count": 113,
   "metadata": {},
   "outputs": [
    {
     "data": {
      "text/html": [
       "<div>\n",
       "<style scoped>\n",
       "    .dataframe tbody tr th:only-of-type {\n",
       "        vertical-align: middle;\n",
       "    }\n",
       "\n",
       "    .dataframe tbody tr th {\n",
       "        vertical-align: top;\n",
       "    }\n",
       "\n",
       "    .dataframe thead th {\n",
       "        text-align: right;\n",
       "    }\n",
       "</style>\n",
       "<table border=\"1\" class=\"dataframe\">\n",
       "  <thead>\n",
       "    <tr style=\"text-align: right;\">\n",
       "      <th></th>\n",
       "      <th>True Values</th>\n",
       "      <th>Predicted Values</th>\n",
       "    </tr>\n",
       "  </thead>\n",
       "  <tbody>\n",
       "    <tr>\n",
       "      <th>0</th>\n",
       "      <td>553.904629</td>\n",
       "      <td>550.404297</td>\n",
       "    </tr>\n",
       "    <tr>\n",
       "      <th>1</th>\n",
       "      <td>478.358238</td>\n",
       "      <td>484.422699</td>\n",
       "    </tr>\n",
       "    <tr>\n",
       "      <th>2</th>\n",
       "      <td>338.133842</td>\n",
       "      <td>336.737701</td>\n",
       "    </tr>\n",
       "    <tr>\n",
       "      <th>3</th>\n",
       "      <td>510.886612</td>\n",
       "      <td>507.640991</td>\n",
       "    </tr>\n",
       "    <tr>\n",
       "      <th>4</th>\n",
       "      <td>667.708565</td>\n",
       "      <td>665.704773</td>\n",
       "    </tr>\n",
       "    <tr>\n",
       "      <th>...</th>\n",
       "      <td>...</td>\n",
       "      <td>...</td>\n",
       "    </tr>\n",
       "    <tr>\n",
       "      <th>295</th>\n",
       "      <td>364.508421</td>\n",
       "      <td>360.831665</td>\n",
       "    </tr>\n",
       "    <tr>\n",
       "      <th>296</th>\n",
       "      <td>239.656264</td>\n",
       "      <td>239.281982</td>\n",
       "    </tr>\n",
       "    <tr>\n",
       "      <th>297</th>\n",
       "      <td>433.423135</td>\n",
       "      <td>436.992981</td>\n",
       "    </tr>\n",
       "    <tr>\n",
       "      <th>298</th>\n",
       "      <td>531.163418</td>\n",
       "      <td>532.801086</td>\n",
       "    </tr>\n",
       "    <tr>\n",
       "      <th>299</th>\n",
       "      <td>347.195214</td>\n",
       "      <td>347.611115</td>\n",
       "    </tr>\n",
       "  </tbody>\n",
       "</table>\n",
       "<p>300 rows × 2 columns</p>\n",
       "</div>"
      ],
      "text/plain": [
       "     True Values  Predicted Values\n",
       "0     553.904629        550.404297\n",
       "1     478.358238        484.422699\n",
       "2     338.133842        336.737701\n",
       "3     510.886612        507.640991\n",
       "4     667.708565        665.704773\n",
       "..           ...               ...\n",
       "295   364.508421        360.831665\n",
       "296   239.656264        239.281982\n",
       "297   433.423135        436.992981\n",
       "298   531.163418        532.801086\n",
       "299   347.195214        347.611115\n",
       "\n",
       "[300 rows x 2 columns]"
      ]
     },
     "execution_count": 113,
     "metadata": {},
     "output_type": "execute_result"
    }
   ],
   "source": [
    "true_preds"
   ]
  },
  {
   "cell_type": "code",
   "execution_count": 114,
   "metadata": {},
   "outputs": [
    {
     "data": {
      "image/png": "[encoded data removed]",
      "text/plain": [
       "<Figure size 432x288 with 1 Axes>"
      ]
     },
     "metadata": {
      "needs_background": "light"
     },
     "output_type": "display_data"
    }
   ],
   "source": [
    "sns.scatterplot(x = \"True Values\", y = \"Predicted Values\", data = true_preds );"
   ]
  },
  {
   "cell_type": "code",
   "execution_count": 118,
   "metadata": {},
   "outputs": [],
   "source": [
    "from sklearn.metrics import mean_absolute_error, mean_squared_error"
   ]
  },
  {
   "cell_type": "code",
   "execution_count": 120,
   "metadata": {},
   "outputs": [
    {
     "data": {
      "text/plain": [
       "4.062222404951257"
      ]
     },
     "execution_count": 120,
     "metadata": {},
     "output_type": "execute_result"
    }
   ],
   "source": [
    "mean_absolute_error(true_preds[\"True Values\"], true_preds[\"Predicted Values\"])"
   ]
  },
  {
   "cell_type": "code",
   "execution_count": 122,
   "metadata": {},
   "outputs": [
    {
     "data": {
      "text/plain": [
       "24.29240772748206"
      ]
     },
     "execution_count": 122,
     "metadata": {},
     "output_type": "execute_result"
    }
   ],
   "source": [
    "mean_squared_error(true_preds[\"True Values\"], true_preds[\"Predicted Values\"])"
   ]
  },
  {
   "cell_type": "code",
   "execution_count": 126,
   "metadata": {},
   "outputs": [],
   "source": [
    "new_shoes = [[998, 1000]]\n",
    "new_shoes = scaler.transform(new_shoes)"
   ]
  },
  {
   "cell_type": "code",
   "execution_count": 129,
   "metadata": {},
   "outputs": [
    {
     "data": {
      "text/plain": [
       "array([[418.7969]], dtype=float32)"
      ]
     },
     "execution_count": 129,
     "metadata": {},
     "output_type": "execute_result"
    }
   ],
   "source": [
    "model.predict(new_shoes)"
   ]
  },
  {
   "cell_type": "code",
   "execution_count": 131,
   "metadata": {},
   "outputs": [],
   "source": [
    "# Saving the model to use later\n",
    "from tensorflow.keras.models import load_model"
   ]
  },
  {
   "cell_type": "code",
   "execution_count": 133,
   "metadata": {},
   "outputs": [],
   "source": [
    "model.save('shoes_model.h5')"
   ]
  },
  {
   "cell_type": "code",
   "execution_count": 134,
   "metadata": {},
   "outputs": [],
   "source": [
    "shoes_model = load_model('shoes_model.h5')"
   ]
  },
  {
   "cell_type": "code",
   "execution_count": 135,
   "metadata": {},
   "outputs": [
    {
     "data": {
      "text/plain": [
       "array([[418.7969]], dtype=float32)"
      ]
     },
     "execution_count": 135,
     "metadata": {},
     "output_type": "execute_result"
    }
   ],
   "source": [
    "shoes_model.predict(new_shoes)"
   ]
  },
  {
   "cell_type": "code",
   "execution_count": null,
   "metadata": {},
   "outputs": [],
   "source": []
  }
 ],
 "metadata": {
  "kernelspec": {
   "display_name": "Python 3",
   "language": "python",
   "name": "python3"
  },
  "language_info": {
   "codemirror_mode": {
    "name": "ipython",
    "version": 3
   },
   "file_extension": ".py",
   "mimetype": "text/x-python",
   "name": "python",
   "nbconvert_exporter": "python",
   "pygments_lexer": "ipython3",
   "version": "3.6.10"
  }
 },
 "nbformat": 4,
 "nbformat_minor": 4
}
